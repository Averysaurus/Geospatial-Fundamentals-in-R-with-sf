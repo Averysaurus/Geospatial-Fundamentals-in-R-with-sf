{
 "cells": [
  {
   "cell_type": "markdown",
   "metadata": {},
   "source": [
    "# Lesson 3. Coordinate Reference Systems (CRS) & Map Projections\n",
    "\n",
    "Building off of what we learned in the previous notebook, we'll get to understand an integral aspect of geospatial data: Coordinate Reference Systems.\n",
    "\n",
    "- 3.1 California County Shapefile\n",
    "- 3.2 USA State Shapefile\n",
    "- 3.3 Plot the Two Together\n",
    "- 3.4 Coordinate Reference System (CRS)\n",
    "- 3.5 Getting the CRS\n",
    "- 3.6 Setting the CRS\n",
    "- 3.7 Transforming or Reprojecting the CRS\n",
    "- 3.8 Plotting States and Counties Togther\n",
    "- 3.9 Recap\n",
    "- **Exercise**: CRS Management\n",
    "\n",
    "<br>\n",
    "<font color='grey'>\n",
    "    <b>Instructor Notes</b>\n",
    "\n",
    "- Datasets used\n",
    "    - ‘notebook_data/california_counties/CaliforniaCounties.shp’\n",
    "    - ‘notebook_data/us_states/us_states.shp’\n",
    "    - ‘notebook_data/census/Places/cb_2018_06_place_500k.zip’\n",
    "\n",
    "- Expected time to complete\n",
    "    - Lecture + Questions: 45 minutes\n",
    "    - Exercises: 10 minutes\n",
    "</font>"
   ]
  },
  {
   "cell_type": "markdown",
   "metadata": {},
   "source": [
    "### Import Libraries"
   ]
  },
  {
   "cell_type": "code",
   "execution_count": 1,
   "metadata": {},
   "outputs": [],
   "source": [
    "import pandas as pd\n",
    "import geopandas as gpd\n",
    "\n",
    "import matplotlib # base python plotting library\n",
    "import matplotlib.pyplot as plt # submodule of matplotlib\n",
    "\n",
    "# To display plots, maps, charts etc in the notebook\n",
    "%matplotlib inline  "
   ]
  },
  {
   "cell_type": "markdown",
   "metadata": {},
   "source": [
    "## 3.1 California County shapefile\n",
    "Let's go ahead and bring back in our California County shapefile. As before, we can read the file in using `gpd.read_file` and plot it straight away."
   ]
  },
  {
   "cell_type": "code",
   "execution_count": 2,
   "metadata": {},
   "outputs": [
    {
     "data": {
      "text/plain": [
       "<AxesSubplot:>"
      ]
     },
     "execution_count": 2,
     "metadata": {},
     "output_type": "execute_result"
    },
    {
     "data": {
      "image/png": "[encoded data removed]",
      "text/plain": [
       "<Figure size 432x288 with 1 Axes>"
      ]
     },
     "metadata": {
      "needs_background": "light"
     },
     "output_type": "display_data"
    }
   ],
   "source": [
    "counties = gpd.read_file('notebook_data/california_counties/CaliforniaCounties.shp')\n",
    "counties.plot(color='darkgreen')"
   ]
  },
  {
   "cell_type": "markdown",
   "metadata": {},
   "source": [
    "Even if we have an awesome map like this, sometimes we want to have more geographical context, or we just want additional information. We're going to try **overlaying** our counties GeoDataFrame on our USA states shapefile."
   ]
  },
  {
   "cell_type": "markdown",
   "metadata": {},
   "source": [
    "## 3.2 USA State shapefile\n",
    "\n",
    "We're going to bring in our states geodataframe, and let's do the usual operations to start exploring our data."
   ]
  },
  {
   "cell_type": "code",
   "execution_count": 3,
   "metadata": {},
   "outputs": [],
   "source": [
    "# Read in states shapefile\n",
    "states = gpd.read_file('notebook_data/us_states/us_states.shp')"
   ]
  },
  {
   "cell_type": "code",
   "execution_count": 4,
   "metadata": {},
   "outputs": [
    {
     "data": {
      "text/html": [
       "<div>\n",
       "<style scoped>\n",
       "    .dataframe tbody tr th:only-of-type {\n",
       "        vertical-align: middle;\n",
       "    }\n",
       "\n",
       "    .dataframe tbody tr th {\n",
       "        vertical-align: top;\n",
       "    }\n",
       "\n",
       "    .dataframe thead th {\n",
       "        text-align: right;\n",
       "    }\n",
       "</style>\n",
       "<table border=\"1\" class=\"dataframe\">\n",
       "  <thead>\n",
       "    <tr style=\"text-align: right;\">\n",
       "      <th></th>\n",
       "      <th>STATE</th>\n",
       "      <th>GEOID</th>\n",
       "      <th>ABBREV</th>\n",
       "      <th>geometry</th>\n",
       "    </tr>\n",
       "  </thead>\n",
       "  <tbody>\n",
       "    <tr>\n",
       "      <th>0</th>\n",
       "      <td>Alabama</td>\n",
       "      <td>01</td>\n",
       "      <td>AL</td>\n",
       "      <td>MULTIPOLYGON (((-88.05338 30.50699, -88.05109 ...</td>\n",
       "    </tr>\n",
       "    <tr>\n",
       "      <th>1</th>\n",
       "      <td>Alaska</td>\n",
       "      <td>02</td>\n",
       "      <td>AK</td>\n",
       "      <td>MULTIPOLYGON (((-134.73726 58.26135, -134.7344...</td>\n",
       "    </tr>\n",
       "    <tr>\n",
       "      <th>2</th>\n",
       "      <td>Arizona</td>\n",
       "      <td>04</td>\n",
       "      <td>AZ</td>\n",
       "      <td>POLYGON ((-114.81629 32.50804, -114.81432 32.5...</td>\n",
       "    </tr>\n",
       "    <tr>\n",
       "      <th>3</th>\n",
       "      <td>Arkansas</td>\n",
       "      <td>05</td>\n",
       "      <td>AR</td>\n",
       "      <td>POLYGON ((-94.61783 36.49941, -94.61765 36.499...</td>\n",
       "    </tr>\n",
       "    <tr>\n",
       "      <th>4</th>\n",
       "      <td>California</td>\n",
       "      <td>06</td>\n",
       "      <td>CA</td>\n",
       "      <td>MULTIPOLYGON (((-118.60442 33.47855, -118.5987...</td>\n",
       "    </tr>\n",
       "  </tbody>\n",
       "</table>\n",
       "</div>"
      ],
      "text/plain": [
       "        STATE GEOID ABBREV                                           geometry\n",
       "0     Alabama    01     AL  MULTIPOLYGON (((-88.05338 30.50699, -88.05109 ...\n",
       "1      Alaska    02     AK  MULTIPOLYGON (((-134.73726 58.26135, -134.7344...\n",
       "2     Arizona    04     AZ  POLYGON ((-114.81629 32.50804, -114.81432 32.5...\n",
       "3    Arkansas    05     AR  POLYGON ((-94.61783 36.49941, -94.61765 36.499...\n",
       "4  California    06     CA  MULTIPOLYGON (((-118.60442 33.47855, -118.5987..."
      ]
     },
     "execution_count": 4,
     "metadata": {},
     "output_type": "execute_result"
    }
   ],
   "source": [
    "# Look at the first few rows\n",
    "states.head()"
   ]
  },
  {
   "cell_type": "code",
   "execution_count": 5,
   "metadata": {},
   "outputs": [
    {
     "data": {
      "text/plain": [
       "(56, 4)"
      ]
     },
     "execution_count": 5,
     "metadata": {},
     "output_type": "execute_result"
    }
   ],
   "source": [
    "# Count how many rows and columns we have\n",
    "states.shape"
   ]
  },
  {
   "cell_type": "code",
   "execution_count": 6,
   "metadata": {},
   "outputs": [
    {
     "data": {
      "text/plain": [
       "<AxesSubplot:>"
      ]
     },
     "execution_count": 6,
     "metadata": {},
     "output_type": "execute_result"
    },
    {
     "data": {
      "image/png": "[encoded data removed]",
      "text/plain": [
       "<Figure size 432x288 with 1 Axes>"
      ]
     },
     "metadata": {
      "needs_background": "light"
     },
     "output_type": "display_data"
    }
   ],
   "source": [
    "# Plot our states data\n",
    "states.plot()"
   ]
  },
  {
   "cell_type": "markdown",
   "metadata": {},
   "source": [
    "You might have noticed that our plot extends beyond the 50 states (which we also saw when we executed the `shape` method). Let's double check what states we have included in our data."
   ]
  },
  {
   "cell_type": "code",
   "execution_count": 7,
   "metadata": {},
   "outputs": [
    {
     "data": {
      "text/plain": [
       "array(['Alabama', 'Alaska', 'Arizona', 'Arkansas', 'California',\n",
       "       'Colorado', 'Connecticut', 'Delaware', 'District of Columbia',\n",
       "       'Georgia', 'Hawaii', 'Idaho', 'Illinois', 'Indiana', 'Iowa',\n",
       "       'Kansas', 'Maryland', 'Minnesota', 'Mississippi', 'Montana',\n",
       "       'Nevada', 'New Jersey', 'New Mexico', 'North Dakota', 'Oklahoma',\n",
       "       'Pennsylvania', 'South Carolina', 'South Dakota', 'Utah',\n",
       "       'Vermont', 'West Virginia', 'Wyoming', 'American Samoa',\n",
       "       'Puerto Rico', 'Florida', 'Kentucky', 'Louisiana', 'Maine',\n",
       "       'Massachusetts', 'Michigan', 'Missouri', 'Nebraska',\n",
       "       'New Hampshire', 'New York', 'North Carolina', 'Ohio', 'Oregon',\n",
       "       'Rhode Island', 'Tennessee', 'Texas', 'Virginia', 'Washington',\n",
       "       'Wisconsin', 'Guam',\n",
       "       'Commonwealth of the Northern Mariana Islands',\n",
       "       'United States Virgin Islands'], dtype=object)"
      ]
     },
     "execution_count": 7,
     "metadata": {},
     "output_type": "execute_result"
    }
   ],
   "source": [
    "states['STATE'].values"
   ]
  },
  {
   "cell_type": "markdown",
   "metadata": {},
   "source": [
    "Beyond the 50 states we seem to have American Samoa, Puerto Rico, Guam, Commonwealth of the Northern Mariana Islands, and United States Virgin Islands included in this geodataframe. To make our map cleaner, let's limit the states to the contiguous states (so we'll also exclude Alaska and Hawaii)."
   ]
  },
  {
   "cell_type": "code",
   "execution_count": 8,
   "metadata": {},
   "outputs": [],
   "source": [
    "# Define list of non-contiguous states\n",
    "non_contiguous_us = [ 'American Samoa','Puerto Rico','Guam',\n",
    "                      'Commonwealth of the Northern Mariana Islands',\n",
    "                      'United States Virgin Islands', 'Alaska','Hawaii']\n",
    "# Limit data according to above list\n",
    "states_limited = states.loc[~states['STATE'].isin(non_contiguous_us)]"
   ]
  },
  {
   "cell_type": "code",
   "execution_count": 9,
   "metadata": {},
   "outputs": [
    {
     "data": {
      "text/plain": [
       "<AxesSubplot:>"
      ]
     },
     "execution_count": 9,
     "metadata": {},
     "output_type": "execute_result"
    },
    {
     "data": {
      "image/png": "[encoded data removed]",
      "text/plain": [
       "<Figure size 432x288 with 1 Axes>"
      ]
     },
     "metadata": {
      "needs_background": "light"
     },
     "output_type": "display_data"
    }
   ],
   "source": [
    "# Plot it\n",
    "states_limited.plot()"
   ]
  },
  {
   "cell_type": "markdown",
   "metadata": {},
   "source": [
    "To prepare for our mapping overlay, let's make our states a nice, light grey color."
   ]
  },
  {
   "cell_type": "code",
   "execution_count": null,
   "metadata": {},
   "outputs": [],
   "source": [
    "states_limited.plot(color='lightgrey', figsize=(10,10))"
   ]
  },
  {
   "cell_type": "markdown",
   "metadata": {},
   "source": [
    "## 3.3 Plot the two together\n",
    "\n",
    "Now that we have both geodataframes in our environment, we can plot both in the same figure.\n",
    "\n",
    "**NOTE**: To do this, note that we're getting a Matplotlib Axes object (`ax`), then explicitly adding each our layers to it\n",
    "by providing the `ax=ax` argument to the `plot` method."
   ]
  },
  {
   "cell_type": "code",
   "execution_count": null,
   "metadata": {},
   "outputs": [],
   "source": [
    "fig, ax = plt.subplots(figsize=(10,10))\n",
    "counties.plot(color='darkgreen',ax=ax)\n",
    "states_limited.plot(color='lightgrey', ax=ax)"
   ]
  },
  {
   "cell_type": "markdown",
   "metadata": {},
   "source": [
    "Oh no, what happened here?\n",
    "\n",
    "<img src=\"http://www.pngall.com/wp-content/uploads/2016/03/Light-Bulb-Free-PNG-Image.png\" width=\"20\" align=left >  **Question** Without looking ahead, what do you think happened?\n",
    "\n"
   ]
  },
  {
   "cell_type": "raw",
   "metadata": {},
   "source": [
    "Your response here:\n",
    "\n",
    "\n",
    "\n",
    "\n",
    "\n"
   ]
  },
  {
   "cell_type": "markdown",
   "metadata": {},
   "source": [
    "<br>\n",
    "<br>\n",
    "If you look at the numbers we have on the x and y axes in our two plots, you'll see that the county data has much larger numbers than our states data. It's represented in some different type of unit other than decimal degrees! \n",
    "\n",
    "In fcat, that means if we zoom in really close into our plot we'll probably see the states data plotted. We can explore this in two ways:\n",
    "\n",
    "- Set our matplotlib preferences to `%matplotlib notebook` to zoom in and out of our plot\n",
    "- Limit the extent of our plot using `set_xlim` and `set_ylim`"
   ]
  },
  {
   "cell_type": "code",
   "execution_count": null,
   "metadata": {
    "scrolled": false
   },
   "outputs": [],
   "source": [
    "%matplotlib notebook\n",
    "\n",
    "fig, ax = plt.subplots(figsize=(10,10))\n",
    "counties.plot(color='darkgreen',ax=ax)\n",
    "states_limited.plot(color='lightgrey', ax=ax)"
   ]
  },
  {
   "cell_type": "code",
   "execution_count": null,
   "metadata": {},
   "outputs": [],
   "source": [
    "%matplotlib inline\n",
    "fig, ax = plt.subplots(figsize=(10,10))\n",
    "counties.plot(color='darkgreen',ax=ax)\n",
    "states_limited.plot(color='lightgrey', ax=ax)\n",
    "ax.set_xlim(-140,-50)\n",
    "ax.set_ylim(20,50)"
   ]
  },
  {
   "cell_type": "markdown",
   "metadata": {},
   "source": [
    "This is a key issue that you'll have to resolve time and time again when working with geospatial data!\n",
    "\n",
    "It all revolves around **coordinate reference systems** and **projections**."
   ]
  },
  {
   "cell_type": "markdown",
   "metadata": {},
   "source": [
    "----------------------------\n",
    "\n",
    "## 3.4 Coordinate Reference Systems (CRS)"
   ]
  },
  {
   "cell_type": "markdown",
   "metadata": {},
   "source": [
    "<img src=\"http://www.pngall.com/wp-content/uploads/2016/03/Light-Bulb-Free-PNG-Image.png\" width=\"20\" align=left >  **Question** Do you have experience with Coordinate Reference Systems?"
   ]
  },
  {
   "cell_type": "raw",
   "metadata": {},
   "source": [
    "Your response here:\n",
    "\n",
    "\n",
    "\n",
    "\n",
    "\n"
   ]
  },
  {
   "cell_type": "markdown",
   "metadata": {},
   "source": [
    "<br><br>As a refresher, a CRS describes how the coordinates in a geospatial dataset relate to locations on the surface of the earth. \n",
    "\n",
    "A `geographic CRS` consists of: \n",
    "- a 3D model of the shape of the earth (a **datum**), approximated as a sphere or spheroid (aka ellipsoid)\n",
    "- the **units** of the coordinate system (e.g, decimal degrees, meters, feet) and \n",
    "- the **origin** (i.e. the 0,0 location), specified as the meeting of the **equator** and the **prime meridian**( \n",
    "\n",
    "A `projected CRS` consists of\n",
    "- a geographic CRS\n",
    "- a **map projection** and related parameters used to transform the geographic coordinates to `2D` space.\n",
    "  - a map projection is a mathematical model used to transform coordinate data\n",
    "\n",
    "### A Geographic vs Projected CRS\n",
    "<img src =\"https://www.e-education.psu.edu/natureofgeoinfo/sites/www.e-education.psu.edu.natureofgeoinfo/files/image/projection.gif\" height=\"100\" width=\"500\">"
   ]
  },
  {
   "cell_type": "markdown",
   "metadata": {},
   "source": [
    "#### There are many, many CRSs\n",
    "\n",
    "Theoretically the number of CRSs is unlimited!\n",
    "\n",
    "Why? Primariy, because there are many different definitions of the shape of the earth, multiplied by many different ways to cast its surface into 2 dimensions. Our understanding of the earth's shape and our ability to measure it has changed greatly over time.\n",
    "\n",
    "#### Why are CRSs Important?\n",
    "\n",
    "- You need to know the data about your data (or `metadata`) to use it appropriately.\n",
    "\n",
    "\n",
    "- All projected CRSs introduce distortion in shape, area, and/or distance. So understanding what CRS best maintains the characteristics you need for your area of interest and your analysis is important.\n",
    "\n",
    "\n",
    "- Some analysis methods expect geospatial data to be in a projected CRS\n",
    "  - For example, `geopandas` expects a geodataframe to be in a projected CRS for area or distance based analyses.\n",
    "\n",
    "\n",
    "- Some Python libraries, but not all, implement dynamic reprojection from the input CRS to the required CRS and assume a specific CRS (WGS84) when a CRS is not explicitly defined.\n",
    "\n",
    "\n",
    "- Most Python spatial libraries, including Geopandas, require geospatial data to be in the same CRS if they are being analysed together.\n",
    "\n",
    "#### What you need to know when working with CRSs\n",
    "\n",
    "- What CRSs used in your study area and their main characteristics\n",
    "- How to identify, or `get`, the CRS of a geodataframe\n",
    "- How to `set` the CRS of geodataframe (i.e. define the projection)\n",
    "- Hot to `transform` the CRS of a geodataframe (i.e. reproject the data)"
   ]
  },
  {
   "cell_type": "markdown",
   "metadata": {},
   "source": [
    "### Codes for CRSs commonly used with CA data\n",
    "\n",
    "CRSs are typically referenced by an [EPSG code](http://wiki.gis.com/wiki/index.php/European_Petroleum_Survey_Group).  \n",
    "\n",
    "It's important to know the commonly used CRSs and their EPSG codes for your geographic area of interest.  \n",
    "\n",
    "For example, below is a list of commonly used CRSs for California geospatial data along with their EPSG codes.\n",
    "\n",
    "##### Geographic CRSs\n",
    "-`4326: WGS84` (units decimal degrees) - the most commonly used geographic CRS\n",
    "\n",
    "-`4269: NAD83` (units decimal degrees) - the geographic CRS customized to best fit the USA. This is used by all Census geographic data.\n",
    "\n",
    ">  `NAD83 (epsg:4269)` are approximately the same as `WGS84(epsg:4326)` although locations can differ by up to 1 meter in the continental USA and elsewhere up to 3m. That is not a big issue with census tract data as these data are only accurate within +/-7meters.\n",
    "##### Projected CRSs\n",
    "\n",
    "-`5070: CONUS NAD83` (units meters) projected CRS for mapping the entire contiguous USA (CONUS)\n",
    "\n",
    "-`3857: Web Mercator` (units meters) conformal (shape preserving) CRS used as the default in web mapping\n",
    "\n",
    "-`3310: CA Albers Equal Area, NAD83` (units meters)  projected CRS for CA statewide mapping and spatial analysis\n",
    "\n",
    "-`26910: UTM Zone 10N, NAD83` (units meters) projected CRS for northern CA mapping & analysis\n",
    "\n",
    "-`26911: UTM Zone 11N, NAD83` (units meters) projected CRS for Southern CA mapping & analysis\n",
    "\n",
    "-`102641 to 102646: CA State Plane zones 1-6, NAD83` (units feet) projected CRS used for local analysis.\n",
    "\n",
    "You can find the full CRS details on the website https://www.spatialreference.org"
   ]
  },
  {
   "cell_type": "markdown",
   "metadata": {},
   "source": [
    "## 3.5 Getting the CRS\n",
    "\n",
    "### Getting the CRS of a gdf\n",
    "\n",
    "GeoPandas GeoDataFrames have a `crs` attribute that returns the CRS of the data."
   ]
  },
  {
   "cell_type": "code",
   "execution_count": null,
   "metadata": {},
   "outputs": [],
   "source": [
    "counties.crs"
   ]
  },
  {
   "cell_type": "code",
   "execution_count": null,
   "metadata": {},
   "outputs": [],
   "source": [
    "states_limited.crs"
   ]
  },
  {
   "cell_type": "markdown",
   "metadata": {},
   "source": [
    "As we can clearly see from those two printouts (even if we don't understand all the content!),\n",
    "the CRSs of our two datasets are different! **This explains why we couldn't overlay them correctly!**"
   ]
  },
  {
   "cell_type": "markdown",
   "metadata": {},
   "source": [
    "-----------------------------------------\n",
    "The above CRS definition specifies \n",
    "- the name of the CRS (`WGS84`), \n",
    "- the axis units (`degree`)\n",
    "- the shape (`datum`),\n",
    "- and the origin (`Prime Meridian`, and the equator)\n",
    "- and the area for which it is best suited (`World`)\n",
    "\n",
    "> Notes:\n",
    ">    - `geocentric` latitude and longitude assume a spherical (round) model of the shape of the earth\n",
    ">    - `geodetic` latitude and longitude assume a spheriodal (ellipsoidal) model, which is closer to the true shape.\n",
    ">    - `geodesy` is the study of the shape of the earth."
   ]
  },
  {
   "cell_type": "markdown",
   "metadata": {},
   "source": [
    "**NOTE**: If you print a `crs` call, Python will just display the EPSG code used to initiate the CRS object. Depending on your versions of Geopandas and its dependencies, this may or may not look different from what we just saw above."
   ]
  },
  {
   "cell_type": "code",
   "execution_count": null,
   "metadata": {
    "scrolled": true
   },
   "outputs": [],
   "source": [
    "print(states_limited.crs)"
   ]
  },
  {
   "cell_type": "markdown",
   "metadata": {},
   "source": [
    "## 3.6 Setting the CRS\n",
    "\n",
    "You can also set the CRS of a gdf using the `crs` attribute.  You would set the CRS if is not defined or if you think it is incorrectly defined.\n",
    "\n",
    "> In desktop GIS terminology setting the CRS is called **defining the CRS**\n",
    "\n",
    "As an example, let's set the CRS of our data to `None`"
   ]
  },
  {
   "cell_type": "code",
   "execution_count": 15,
   "metadata": {},
   "outputs": [],
   "source": [
    "# first set the CRS to None\n",
    "states_limited.crs = None"
   ]
  },
  {
   "cell_type": "code",
   "execution_count": null,
   "metadata": {},
   "outputs": [],
   "source": [
    "# Check it again\n",
    "states_limited.crs"
   ]
  },
  {
   "cell_type": "markdown",
   "metadata": {},
   "source": [
    "...hummm...\n",
    "\n",
    "If a variable has a null value (None) then displaying it without printing it won't display anything!"
   ]
  },
  {
   "cell_type": "code",
   "execution_count": 10,
   "metadata": {},
   "outputs": [
    {
     "name": "stdout",
     "output_type": "stream",
     "text": [
      "{'init': 'epsg:4326'}\n"
     ]
    }
   ],
   "source": [
    "# Check it again\n",
    "print(states_limited.crs)"
   ]
  },
  {
   "cell_type": "markdown",
   "metadata": {},
   "source": [
    "Now we'll set it back to its correct CRS."
   ]
  },
  {
   "cell_type": "code",
   "execution_count": 17,
   "metadata": {},
   "outputs": [],
   "source": [
    "# Set it to 4326\n",
    "states_limited.crs = \"epsg:4326\""
   ]
  },
  {
   "cell_type": "code",
   "execution_count": null,
   "metadata": {},
   "outputs": [],
   "source": [
    "# Show it\n",
    "states_limited.crs"
   ]
  },
  {
   "cell_type": "markdown",
   "metadata": {},
   "source": [
    "**NOTE**: You can set the CRS to anything you like, but **that doesn't make it correct**! This is because setting the CRS does not change the coordinate data; it just tells the software how to interpret it."
   ]
  },
  {
   "cell_type": "markdown",
   "metadata": {},
   "source": [
    "## 3.7 Transforming or Reprojecting the CRS\n",
    "You can transform the CRS of a geodataframe with the `to_crs` method.\n",
    "\n",
    "\n",
    "> In desktop GIS terminology transforming the CRS is called **projecting the data** (or **reprojecting the data**)\n",
    "\n",
    "When you do this you want to save the output to a new GeoDataFrame."
   ]
  },
  {
   "cell_type": "code",
   "execution_count": 20,
   "metadata": {},
   "outputs": [
    {
     "data": {
      "text/plain": [
       "'0.6.2'"
      ]
     },
     "execution_count": 20,
     "metadata": {},
     "output_type": "execute_result"
    }
   ],
   "source": [
    "gpd.__version__\n"
   ]
  },
  {
   "cell_type": "code",
   "execution_count": 19,
   "metadata": {},
   "outputs": [],
   "source": [
    "states_limited.to_crs?\n"
   ]
  },
  {
   "cell_type": "code",
   "execution_count": 18,
   "metadata": {},
   "outputs": [
    {
     "name": "stderr",
     "output_type": "stream",
     "text": [
      "/usr/lib/python3.8/site-packages/pyproj/crs/crs.py:279: FutureWarning: '+init=<authority>:<code>' syntax is deprecated. '<authority>:<code>' is the preferred initialization method. When making the change, be mindful of axis order changes: https://pyproj4.github.io/pyproj/stable/gotchas.html#axis-order-changes-in-proj-6\n",
      "  projstring = _prepare_from_string(projparams)\n"
     ]
    }
   ],
   "source": [
    "states_limited_utm10 = states_limited.to_crs(\"+init=epsg:26910\")"
   ]
  },
  {
   "cell_type": "markdown",
   "metadata": {},
   "source": [
    "Now take a look at the CRS."
   ]
  },
  {
   "cell_type": "code",
   "execution_count": 31,
   "metadata": {},
   "outputs": [
    {
     "data": {
      "text/plain": [
       "<AxesSubplot:>"
      ]
     },
     "execution_count": 31,
     "metadata": {},
     "output_type": "execute_result"
    },
    {
     "data": {
      "image/png": "[encoded data removed]",
      "text/plain": [
       "<Figure size 432x288 with 1 Axes>"
      ]
     },
     "metadata": {
      "needs_background": "light"
     },
     "output_type": "display_data"
    }
   ],
   "source": [
    "sl.iloc[[0]].plot()"
   ]
  },
  {
   "cell_type": "code",
   "execution_count": null,
   "metadata": {},
   "outputs": [],
   "source": [
    "states_limited_utm10.crs"
   ]
  },
  {
   "cell_type": "markdown",
   "metadata": {},
   "source": [
    "You can see the result immediately by plotting the data."
   ]
  },
  {
   "cell_type": "code",
   "execution_count": null,
   "metadata": {
    "scrolled": false
   },
   "outputs": [],
   "source": [
    "# plot geographic gdf\n",
    "states_limited.plot();\n",
    "plt.axis('square');\n",
    "\n",
    "# plot utm gdf\n",
    "states_limited_utm10.plot();\n",
    "plt.axis('square')"
   ]
  },
  {
   "cell_type": "code",
   "execution_count": null,
   "metadata": {},
   "outputs": [],
   "source": [
    "# Your thoughts here"
   ]
  },
  {
   "cell_type": "markdown",
   "metadata": {},
   "source": [
    "<div style=\"display:inline-block;vertical-align:top;\">\n",
    "    <img src=\"http://www.pngall.com/wp-content/uploads/2016/03/Light-Bulb-Free-PNG-Image.png\" width=\"30\" align=left > \n",
    "</div>  \n",
    "<div style=\"display:inline-block;\">\n",
    "\n",
    "#### Questions\n",
    "</div>\n",
    "\n",
    "1. What two key differences do you see between the two plots above?\n",
    "1. Do either of these plotted USA maps look good?\n",
    "1. Try looking at the common CRS EPSG codes above and see if any of them look better for the whole country than what we have now. Then try transforming the states data to the CRS that you think would be best and plotting it. (Use the code cell two cells below.)"
   ]
  },
  {
   "cell_type": "raw",
   "metadata": {},
   "source": [
    "Your responses here:\n",
    "\n",
    "\n",
    "\n",
    "\n",
    "\n"
   ]
  },
  {
   "cell_type": "code",
   "execution_count": null,
   "metadata": {},
   "outputs": [],
   "source": [
    "# YOUR CODE HERE\n",
    "\n",
    "\n",
    "\n",
    "\n",
    "\n"
   ]
  },
  {
   "cell_type": "markdown",
   "metadata": {},
   "source": [
    "**Double-click to see solution!**\n",
    "\n",
    "<!--\n",
    "#SOLUTION \n",
    "states_limited_conus = states_limited.to_crs(\"epsg:5070\")\n",
    "states_limited_conus.plot();\n",
    "plt.axis('square')\n",
    "-->"
   ]
  },
  {
   "cell_type": "markdown",
   "metadata": {},
   "source": [
    "## 3.8 Plotting states and counties together\n",
    "\n",
    "Now that we know what a CRS is and how we can set them, let's convert our counties GeoDataFrame to match up with out states' crs."
   ]
  },
  {
   "cell_type": "code",
   "execution_count": null,
   "metadata": {},
   "outputs": [],
   "source": [
    "# Convert counties data to NAD83 \n",
    "counties_utm10 = counties.to_crs(\"epsg:26910\")"
   ]
  },
  {
   "cell_type": "code",
   "execution_count": null,
   "metadata": {},
   "outputs": [],
   "source": [
    "counties_utm10.plot()"
   ]
  },
  {
   "cell_type": "code",
   "execution_count": null,
   "metadata": {},
   "outputs": [],
   "source": [
    "# Plot it together!\n",
    "fig, ax = plt.subplots(figsize=(10,10))\n",
    "states_limited_utm10.plot(color='lightgrey', ax=ax)\n",
    "counties_utm10.plot(color='darkgreen',ax=ax)"
   ]
  },
  {
   "cell_type": "markdown",
   "metadata": {},
   "source": [
    "Since we know that the best CRS to plot the contiguous US from the above question is 5070, let's also transform and plot everything in that CRS."
   ]
  },
  {
   "cell_type": "code",
   "execution_count": null,
   "metadata": {},
   "outputs": [],
   "source": [
    "counties_conus = counties.to_crs(\"epsg:5070\")"
   ]
  },
  {
   "cell_type": "code",
   "execution_count": null,
   "metadata": {},
   "outputs": [],
   "source": [
    "fig, ax = plt.subplots(figsize=(10,10))\n",
    "states_limited_conus.plot(color='lightgrey', ax=ax)\n",
    "counties_conus.plot(color='darkgreen',ax=ax)"
   ]
  },
  {
   "cell_type": "markdown",
   "metadata": {},
   "source": [
    "## 3.9 Recap\n",
    "\n",
    "In this lesson we learned about...\n",
    "- Coordinate Reference Systems \n",
    "- Getting the CRS of a geodataframe\n",
    "    - `crs`\n",
    "- Transforming/repojecting CRS\n",
    "    - `to_crs`\n",
    "- Overlaying maps"
   ]
  },
  {
   "cell_type": "markdown",
   "metadata": {},
   "source": [
    "## Exercise: CRS Management\n",
    "\n",
    "Now it's time to take a crack and managing the CRS of a new dataset. In the code cell below, write code to:\n",
    "\n",
    "1. Bring in the CA places data (`notebook_data/census/Places/cb_2018_06_place_500k.zip`)\n",
    "2. Check if the CRS is EPSG code 26910. If not, transform the CRS\n",
    "3. Plot the California counties and places together.\n",
    "\n",
    "To see the solution, double-click the Markdown cell below."
   ]
  },
  {
   "cell_type": "code",
   "execution_count": null,
   "metadata": {},
   "outputs": [],
   "source": [
    "# YOUR CODE HERE\n",
    "\n",
    "\n",
    "\n",
    "\n",
    "\n"
   ]
  },
  {
   "cell_type": "markdown",
   "metadata": {},
   "source": [
    "## Double-click to see solution!\n",
    "\n",
    "<!--\n",
    "\n",
    "# SOLUTION\n",
    "\n",
    "# 1. Bring in the CA places data\n",
    "california_places = gpd.read_file('zip://notebook_data/census/Places/cb_2018_06_place_500k.zip')\n",
    "california_places.head()\n",
    "\n",
    "# 2. Check and transorm the CRS if needed\n",
    "california_places.crs\n",
    "california_places_utm10 = california_places.to_crs( \"epsg:26910\")\n",
    "\n",
    "# 3. Plot the California counties and places together\n",
    "fig, ax = plt.subplots(figsize=(10,10))\n",
    "counties_utm10.plot(color='lightgrey', ax=ax)\n",
    "california_places_utm10 .plot(color='purple',ax=ax)\n",
    "\n",
    "-->"
   ]
  },
  {
   "cell_type": "markdown",
   "metadata": {},
   "source": [
    "---\n",
    "<div style=\"display:inline-block;vertical-align:middle;\">\n",
    "<a href=\"https://dlab.berkeley.edu/\" target=\"_blank\"><img src =\"assets/images/dlab_logo.png\" width=\"75\" align=\"left\">\n",
    "</a>\n",
    "</div>\n",
    "\n",
    "<div style=\"display:inline-block;vertical-align:middle;\">\n",
    "    <div style=\"font-size:larger\">&nbsp;D-Lab @ University of California - Berkeley</div>\n",
    "    <div>&nbsp;Team Geo<div>\n",
    "</div>\n",
    "        \n"
   ]
  }
 ],
 "metadata": {
  "kernelspec": {
   "display_name": "Python 3",
   "language": "python",
   "name": "python3"
  },
  "language_info": {
   "codemirror_mode": {
    "name": "ipython",
    "version": 3
   },
   "file_extension": ".py",
   "mimetype": "text/x-python",
   "name": "python",
   "nbconvert_exporter": "python",
   "pygments_lexer": "ipython3",
   "version": "3.8.5"
  }
 },
 "nbformat": 4,
 "nbformat_minor": 4
}
